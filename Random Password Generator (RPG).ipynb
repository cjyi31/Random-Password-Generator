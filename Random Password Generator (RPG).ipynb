{
 "cells": [
  {
   "cell_type": "markdown",
   "metadata": {},
   "source": [
    "Created on Fri Mar 31 08:03:16 2023\n",
    "\n",
    "\n",
    "Created by: Grace Choo"
   ]
  },
  {
   "cell_type": "markdown",
   "metadata": {},
   "source": [
    "To generate random passwords. Expected outputs are:\n",
    "    1. X characters in length. Assign how long you want your password to be in 'HowLongPW' Setting\n",
    "    2. At least 1 Big Case Character\n",
    "    3. At least 1 Lower case Character\n",
    "    4. At least 1 Digit\n",
    "    5. At least 1 Special Character"
   ]
  },
  {
   "cell_type": "markdown",
   "metadata": {},
   "source": [
    "# Settings\n",
    "Change based on your preferences"
   ]
  },
  {
   "cell_type": "code",
   "execution_count": 1,
   "metadata": {},
   "outputs": [],
   "source": [
    "HowLongPW = 15"
   ]
  },
  {
   "cell_type": "markdown",
   "metadata": {},
   "source": [
    "# Packages"
   ]
  },
  {
   "cell_type": "code",
   "execution_count": 2,
   "metadata": {},
   "outputs": [],
   "source": [
    "import random as rd"
   ]
  },
  {
   "cell_type": "markdown",
   "metadata": {},
   "source": [
    "# List of numbers, characters and special characters"
   ]
  },
  {
   "cell_type": "code",
   "execution_count": 3,
   "metadata": {},
   "outputs": [],
   "source": [
    "BigAlpha = ['A', 'B', 'C', 'D', 'E', 'F', 'G', 'H', 'I', 'J', 'K', 'L', 'M', 'N', 'O', 'P', 'Q', 'R', 'S', 'T', 'U', 'V', 'W', 'X', 'Y', 'Z']\n",
    "SmallAlpha = ['a', 'b', 'c', 'd', 'e', 'f', 'g', 'h', 'i', 'j', 'k', 'l', 'm', 'n', 'o', 'p', 'q', 'r', 's', 't', 'u', 'v', 'w', 'x', 'y', 'z']\n",
    "Digits = ['0', '1', '2', '3', '4', '5', '6', '7', '8', '9']\n",
    "SpecialChar = ['~', '!', '@', '#', '$', '%', '&', '*', '(', ')', '-', '+', '=']"
   ]
  },
  {
   "cell_type": "markdown",
   "metadata": {},
   "source": [
    "# Generate Password"
   ]
  },
  {
   "cell_type": "code",
   "execution_count": 6,
   "metadata": {},
   "outputs": [
    {
     "name": "stdout",
     "output_type": "stream",
     "text": [
      "Your Password is: $9#S4Z&Y&e2zIm!\n"
     ]
    }
   ],
   "source": [
    "CharacterList = ['BigAlpha','SmallAlpha','Digits','SpecialChar']\n",
    "grouplist=[]\n",
    "while len(dict.fromkeys(grouplist)) != 4:\n",
    "    pw = []\n",
    "    for i in range(HowLongPW):\n",
    "        group = rd.choice(CharacterList)\n",
    "        if group == 'BigAlpha':\n",
    "            p = rd.choice(BigAlpha)\n",
    "        elif group == 'SmallAlpha':\n",
    "            p = rd.choice(SmallAlpha)\n",
    "        elif group == 'Digits':\n",
    "            p = rd.choice(Digits)\n",
    "        else:\n",
    "            p = rd.choice(SpecialChar)\n",
    "        pw.append(p)\n",
    "        grouplist.append(group)\n",
    "    print(\"Your Password is: \" + ''.join(pw))"
   ]
  },
  {
   "cell_type": "code",
   "execution_count": null,
   "metadata": {},
   "outputs": [],
   "source": []
  },
  {
   "cell_type": "markdown",
   "metadata": {},
   "source": [
    "# End"
   ]
  }
 ],
 "metadata": {
  "kernelspec": {
   "display_name": "Python 3",
   "language": "python",
   "name": "python3"
  },
  "language_info": {
   "codemirror_mode": {
    "name": "ipython",
    "version": 3
   },
   "file_extension": ".py",
   "mimetype": "text/x-python",
   "name": "python",
   "nbconvert_exporter": "python",
   "pygments_lexer": "ipython3",
   "version": "3.7.3"
  },
  "toc": {
   "base_numbering": 1,
   "nav_menu": {},
   "number_sections": true,
   "sideBar": true,
   "skip_h1_title": false,
   "title_cell": "Table of Contents",
   "title_sidebar": "Contents",
   "toc_cell": false,
   "toc_position": {
    "height": "calc(100% - 180px)",
    "left": "10px",
    "top": "150px",
    "width": "256px"
   },
   "toc_section_display": true,
   "toc_window_display": true
  }
 },
 "nbformat": 4,
 "nbformat_minor": 2
}
